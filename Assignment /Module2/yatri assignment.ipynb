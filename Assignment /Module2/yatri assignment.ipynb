{
  "nbformat": 4,
  "nbformat_minor": 0,
  "metadata": {
    "colab": {
      "provenance": []
    },
    "kernelspec": {
      "name": "python3",
      "display_name": "Python 3"
    },
    "language_info": {
      "name": "python"
    }
  },
  "cells": [
    {
      "cell_type": "code",
      "execution_count": null,
      "metadata": {
        "id": "wbDoHu5nr2w8",
        "colab": {
          "base_uri": "https://localhost:8080/"
        },
        "outputId": "0d2e4c47-c1ce-4b7a-8ea9-fff63c3ac987"
      },
      "outputs": [
        {
          "output_type": "stream",
          "name": "stdout",
          "text": [
            "enter the number :10\n",
            "55\n"
          ]
        }
      ],
      "source": [
        "# 1. find the sum of n positive numbers\n",
        "n = int(input(\"enter the number :\"))\n",
        "total = sum(range(1, n + 1))\n",
        "print(total)"
      ]
    },
    {
      "cell_type": "code",
      "source": [
        "# 2. count occurrences of a substring in a string.\n",
        "string = input(\"enter the string :\")\n",
        "substring = input(\"enter the substring :\")\n",
        "count = string.count(substring)\n",
        "print(count)"
      ],
      "metadata": {
        "id": "g0zum7QhuiNN",
        "colab": {
          "base_uri": "https://localhost:8080/"
        },
        "outputId": "385170f0-fcec-4453-9700-fb2dc94acd01"
      },
      "execution_count": null,
      "outputs": [
        {
          "output_type": "stream",
          "name": "stdout",
          "text": [
            "enter the string :banana\n",
            "enter the substring :na\n",
            "2\n"
          ]
        }
      ]
    },
    {
      "cell_type": "code",
      "source": [
        "# 3. the occurrences of each word in a given sentence.\n",
        "word= input(\"enter the word :\")\n",
        "sentence = input(\"enter the sentence :\")\n",
        "count = sentence.count(word)\n",
        "print(count)"
      ],
      "metadata": {
        "id": "lmmdKQ6cyUQJ",
        "colab": {
          "base_uri": "https://localhost:8080/"
        },
        "outputId": "2ed9b589-b8aa-4a86-e4d9-809f9a315c6c"
      },
      "execution_count": null,
      "outputs": [
        {
          "output_type": "stream",
          "name": "stdout",
          "text": [
            "enter the word :very\n",
            "enter the sentence :she is very smart\n",
            "1\n"
          ]
        }
      ]
    },
    {
      "cell_type": "code",
      "source": [
        "# 4. get a single string from two given strings, separated by a space and swap the first two characters of each string.\n",
        "str1 = input(\"enter the string :\")\n",
        "str2 = input(\"enter the string :\")\n",
        "\n",
        "new1 = str2[:2] + str1[2:]\n",
        "new2 = str1[:2] + str2[2:]\n",
        "\n",
        "print(new1 + \" \" + new2)\n"
      ],
      "metadata": {
        "id": "k-uVrPWdBcZQ",
        "colab": {
          "base_uri": "https://localhost:8080/"
        },
        "outputId": "6e5ad04d-868b-4935-8dc8-36e5d5d75801"
      },
      "execution_count": null,
      "outputs": [
        {
          "output_type": "stream",
          "name": "stdout",
          "text": [
            "enter the string :yatri\n",
            "enter the string :dave\n",
            "datri yave\n"
          ]
        }
      ]
    },
    {
      "cell_type": "code",
      "source": [
        "# 5. add 'ing' at the end of a given string (length should be atleast 3).\n",
        "# If the given string already ends with 'ing' then add 'ly' instead.\n",
        "# If the string length of the given string is less than 3, leave it unchanged\n",
        "\n",
        "WORDS = input(\"enter the word :\")\n",
        "if word.endswith('ing'):\n",
        "  print(WORDS + 'ly')\n",
        "elif len(WORDS)>3:\n",
        "  print(WORDS + 'ing')\n",
        "elif len(WORDS)<=3:\n",
        " print(WORDS)"
      ],
      "metadata": {
        "id": "TYi70gY7BcRn",
        "colab": {
          "base_uri": "https://localhost:8080/"
        },
        "outputId": "d76917f1-83de-4661-e63d-0f58dd2ad236"
      },
      "execution_count": null,
      "outputs": [
        {
          "output_type": "stream",
          "name": "stdout",
          "text": [
            "enter the word :flys\n",
            "flysing\n"
          ]
        }
      ]
    },
    {
      "cell_type": "code",
      "source": [
        "# 6. find the first appearance of the substring 'not' and'poor' from a given string,\n",
        "#if 'not' follows the 'poor', replace the whole 'not'...'poor' substring with 'good'. Return the resulting string\n",
        "\n",
        "sentence = input(\"enter the sentence :\")\n",
        "\n",
        "not_index = sentence.find('not')\n",
        "poor_index = sentence.find('poor')\n",
        "if not_index != -1 and poor_index != -1 and not_index < poor_index:\n",
        "    print(sentence[:not_index] + 'good' + sentence[poor_index + 4:])\n",
        "\n"
      ],
      "metadata": {
        "id": "BgbPZcxsAs4A",
        "colab": {
          "base_uri": "https://localhost:8080/"
        },
        "outputId": "cf39819d-e873-4f4a-c9fa-a77025d88599"
      },
      "execution_count": null,
      "outputs": [
        {
          "output_type": "stream",
          "name": "stdout",
          "text": [
            "enter the sentence :she is not that poor in english\n",
            "she is good in english\n"
          ]
        }
      ]
    },
    {
      "cell_type": "code",
      "source": [
        "# 7. find Greatest Common Divisor of two numbers.\n",
        "import math\n",
        "def GCD(a,b):\n",
        "  return math.gcd(a,b)\n"
      ],
      "metadata": {
        "id": "WNCSJ5lm9Ez5"
      },
      "execution_count": null,
      "outputs": []
    },
    {
      "cell_type": "code",
      "source": [
        "GCD(98,56)"
      ],
      "metadata": {
        "colab": {
          "base_uri": "https://localhost:8080/"
        },
        "id": "lQRmCLiS-OgT",
        "outputId": "830f850f-8d42-444c-e929-2a8c9e106a9b"
      },
      "execution_count": null,
      "outputs": [
        {
          "output_type": "execute_result",
          "data": {
            "text/plain": [
              "14"
            ]
          },
          "metadata": {},
          "execution_count": 9
        }
      ]
    },
    {
      "cell_type": "code",
      "source": [
        "# 8. check whether a list contains a sublist.\n",
        "def check_sublist(lst):\n",
        "    for item in lst:\n",
        "        if isinstance(item, list):\n",
        "            return True\n",
        "    return False"
      ],
      "metadata": {
        "id": "6zjZydhb-r3Z"
      },
      "execution_count": null,
      "outputs": []
    },
    {
      "cell_type": "code",
      "source": [
        "check_sublist([1,2,[3,4]])"
      ],
      "metadata": {
        "colab": {
          "base_uri": "https://localhost:8080/"
        },
        "id": "oFshE7LIO6KA",
        "outputId": "e7fe1167-dc3c-4529-b471-edf0403c47f2"
      },
      "execution_count": null,
      "outputs": [
        {
          "output_type": "execute_result",
          "data": {
            "text/plain": [
              "True"
            ]
          },
          "metadata": {},
          "execution_count": 24
        }
      ]
    },
    {
      "cell_type": "code",
      "source": [
        "# 9. find the second smallest number in a list\n",
        "second_smallest=[12,9,4,6]\n",
        "second_smallest.sort()\n",
        "print(second_smallest[1])"
      ],
      "metadata": {
        "id": "DADk3J5U-rvB",
        "colab": {
          "base_uri": "https://localhost:8080/"
        },
        "outputId": "d153ffea-97b7-42af-e4ba-8ee3d3596049"
      },
      "execution_count": null,
      "outputs": [
        {
          "output_type": "stream",
          "name": "stdout",
          "text": [
            "6\n"
          ]
        }
      ]
    },
    {
      "cell_type": "code",
      "source": [
        "# 10. get unique values from a list\n",
        "def unique_values(list_of_name):\n",
        "    return list(set(list_of_name))"
      ],
      "metadata": {
        "id": "0Bxb43aN-rgt"
      },
      "execution_count": null,
      "outputs": []
    },
    {
      "cell_type": "code",
      "source": [
        "unique_values(['riya','divya','riya'])"
      ],
      "metadata": {
        "colab": {
          "base_uri": "https://localhost:8080/"
        },
        "id": "i-BormFr-rZZ",
        "outputId": "0baea4fb-d4d1-4cc5-d251-3a729bfaac2d"
      },
      "execution_count": null,
      "outputs": [
        {
          "output_type": "execute_result",
          "data": {
            "text/plain": [
              "['divya', 'riya']"
            ]
          },
          "metadata": {},
          "execution_count": 26
        }
      ]
    },
    {
      "cell_type": "code",
      "source": [
        "# 11. unzip a list of tuples into individual lists\n",
        "data = [(1,'a'), (2,'b'), (3,'c'), (4,'d')]\n",
        "\n",
        "list1 = []\n",
        "list2 = []\n",
        "for x, y in data:\n",
        "    list1.append(x)\n",
        "    list2.append(y)\n",
        "\n",
        "print(list1)\n",
        "print(list2)"
      ],
      "metadata": {
        "colab": {
          "base_uri": "https://localhost:8080/"
        },
        "id": "x_q8WhdfCWkm",
        "outputId": "1124dca1-29e6-4832-caa7-b527077472f0"
      },
      "execution_count": null,
      "outputs": [
        {
          "output_type": "stream",
          "name": "stdout",
          "text": [
            "[1, 2, 3, 4]\n",
            "['a', 'b', 'c', 'd']\n"
          ]
        }
      ]
    },
    {
      "cell_type": "code",
      "source": [
        "# 12. convert a list of tuples into a dictionary\n",
        "names = [(1,'yatri'),(2,'divya'),(3,'riya'),(4,'jagruti')]\n",
        "name_dict= dict(names)\n",
        "print(name_dict)"
      ],
      "metadata": {
        "colab": {
          "base_uri": "https://localhost:8080/"
        },
        "id": "yoJQdTriEAsI",
        "outputId": "ef1f29b6-3e38-41f9-bc5c-f9901494d12e"
      },
      "execution_count": null,
      "outputs": [
        {
          "output_type": "stream",
          "name": "stdout",
          "text": [
            "{1: 'yatri', 2: 'divya', 3: 'riya', 4: 'jagruti'}\n"
          ]
        }
      ]
    },
    {
      "cell_type": "code",
      "source": [
        "# 13. sort a dictionary (ascending /descending) by value.\n",
        "#sorted(name_dict)\n",
        "marks = {1: 90,2:87,3:92}\n",
        "sorted(marks)"
      ],
      "metadata": {
        "colab": {
          "base_uri": "https://localhost:8080/"
        },
        "id": "BqwkmKDKF7VS",
        "outputId": "da43f23a-b56e-4e1e-ea5c-6ab974d4c35a"
      },
      "execution_count": null,
      "outputs": [
        {
          "output_type": "execute_result",
          "data": {
            "text/plain": [
              "[1, 2, 3]"
            ]
          },
          "metadata": {},
          "execution_count": 37
        }
      ]
    },
    {
      "cell_type": "code",
      "source": [
        "# 14. find the highest 3 values in a dictionary\n",
        "marks = {1: 90,2:87,3:92,4:85,5:99}\n",
        "sorted(marks.values(),reverse=True)[:3]\n"
      ],
      "metadata": {
        "id": "nEXPiQ6MGZP5",
        "colab": {
          "base_uri": "https://localhost:8080/"
        },
        "outputId": "4839d69b-4303-4534-aef9-102061b76419"
      },
      "execution_count": null,
      "outputs": [
        {
          "output_type": "execute_result",
          "data": {
            "text/plain": [
              "[99, 92, 90]"
            ]
          },
          "metadata": {},
          "execution_count": 28
        }
      ]
    },
    {
      "cell_type": "code",
      "source": [
        "# 15. Given a number n, write a python program to make and print the list of Fibonacci series up to n.\n",
        "fib_list = []\n",
        "a, b = 0, 1\n",
        "n=int(input(\"enter the number :\"))\n",
        "for i in range(n):\n",
        "        fib_list.append(a)\n",
        "        a, b = b, a + b\n",
        "print (fib_list)\n",
        "\n",
        "\n"
      ],
      "metadata": {
        "id": "Rbn3IIafI8ij",
        "colab": {
          "base_uri": "https://localhost:8080/"
        },
        "outputId": "1238ac88-35a4-4993-cadb-b4763fc4f887"
      },
      "execution_count": null,
      "outputs": [
        {
          "output_type": "stream",
          "name": "stdout",
          "text": [
            "enter the number :8\n",
            "[0, 1, 1, 2, 3, 5, 8, 13]\n"
          ]
        }
      ]
    },
    {
      "cell_type": "code",
      "source": [
        "# 16.Counting the frequencies in a list using a dictionary in Python.\n",
        "def count_frequencies(input_list):\n",
        "  frequency_dict = {}\n",
        "  for item in input_list:\n",
        "    if item in frequency_dict:\n",
        "      frequency_dict[item] += 1\n",
        "    else:\n",
        "      frequency_dict[item] = 1\n",
        "  return frequency_dict\n",
        "\n",
        "\n"
      ],
      "metadata": {
        "id": "QTgRPEa5I-zm"
      },
      "execution_count": null,
      "outputs": []
    },
    {
      "cell_type": "code",
      "source": [
        "my_list = [1, 2, 2, 3, 1, 4, 2, 3, 3, 3]\n",
        "frequencies = count_frequencies(my_list)\n",
        "print(frequencies)"
      ],
      "metadata": {
        "colab": {
          "base_uri": "https://localhost:8080/"
        },
        "id": "Cc0Ob6vZSmY0",
        "outputId": "02ba9776-c48b-4713-9904-0243fd6ed1e0"
      },
      "execution_count": null,
      "outputs": [
        {
          "output_type": "stream",
          "name": "stdout",
          "text": [
            "{1: 2, 2: 3, 3: 4, 4: 1}\n"
          ]
        }
      ]
    },
    {
      "cell_type": "code",
      "source": [
        "# 17. using function to find the sum of odd series and even series\n",
        "#Odd series: 12/ 1! +32/ 3! + 52/ 5!+……n\n",
        "#Even series: 22/ 2! + 42/ 4! + 62/ 6!+……n\n",
        "import math as math\n",
        "def sum_of_series(n):\n",
        "  odd_sum = 0\n",
        "  even_sum = 0\n",
        "  for i in range(1, n+1):\n",
        "    if i % 2 == 1:\n",
        "      odd_sum += i**2 / math.factorial(i)\n",
        "    else:\n",
        "      even_sum += i**2 / math.factorial(i)\n"
      ],
      "metadata": {
        "id": "CSKCFpnoI-ta"
      },
      "execution_count": null,
      "outputs": []
    },
    {
      "cell_type": "code",
      "source": [
        "sum_of_series(5)"
      ],
      "metadata": {
        "id": "9x6AaLG2MOlh"
      },
      "execution_count": null,
      "outputs": []
    },
    {
      "cell_type": "code",
      "source": [
        "# 18. Find Factorial of Number Using Recursion\n",
        "def factorial(n):\n",
        "  if n==0:\n",
        "    return 1\n",
        "  elif n==1:\n",
        "    return 1\n",
        "  else:\n",
        "    return n*factorial(n-1)"
      ],
      "metadata": {
        "id": "EijpEJyhI-Xg"
      },
      "execution_count": null,
      "outputs": []
    },
    {
      "cell_type": "code",
      "source": [
        "factorial(5)"
      ],
      "metadata": {
        "colab": {
          "base_uri": "https://localhost:8080/"
        },
        "id": "1Yr2nuoDoSt9",
        "outputId": "10a65883-b865-495f-a666-61babb960ca9"
      },
      "execution_count": null,
      "outputs": [
        {
          "output_type": "execute_result",
          "data": {
            "text/plain": [
              "120"
            ]
          },
          "metadata": {},
          "execution_count": 4
        }
      ]
    },
    {
      "cell_type": "code",
      "source": [
        "# 19.function that takes a list and returns a new list with unique elements of the first list\n",
        "def unique_elements(list_of_name):\n",
        "    return list(set(list_of_name))\n"
      ],
      "metadata": {
        "id": "ImLo_Sc5I-NY"
      },
      "execution_count": null,
      "outputs": []
    },
    {
      "cell_type": "code",
      "source": [
        "unique_elements(['cat','dog','cat'])"
      ],
      "metadata": {
        "colab": {
          "base_uri": "https://localhost:8080/"
        },
        "id": "j4VFxuBPmwfz",
        "outputId": "a77cbe4a-3adb-450a-abca-095d3d031860"
      },
      "execution_count": null,
      "outputs": [
        {
          "output_type": "execute_result",
          "data": {
            "text/plain": [
              "['dog', 'cat']"
            ]
          },
          "metadata": {},
          "execution_count": 3
        }
      ]
    },
    {
      "cell_type": "code",
      "source": [
        "#20.Mini project :\n",
        "#Problem Statement : Password Generator\n",
        "#Make a program to generate a strong password using the input given by theuser.\n",
        "#To generate a password, randomly take some words from the user input andtheninclude numbers, special characters and capital letters to generate the password.\n",
        "#Also, keep a check that password length is more than 8 characters.\n",
        "#Note: Include Exception handling wherever required. Also, make a ‘User’ classand store the details like user id, name and password of each user as a tuple\n",
        "\n",
        "import random\n",
        "user_input = input(\"your password: \")\n",
        "words = user_input.split()\n",
        "if len(words) >= 2:\n",
        "    chosen = random.sample(words, 2)\n",
        "else:\n",
        "    chosen = words\n",
        "new_words = [word.capitalize() for word in chosen]\n",
        "base = \"\"\n",
        "for word in new_words:\n",
        "    base = base + word\n",
        "numbers = str(random.randint(10, 99))\n",
        "symbols = random.choice(['@', '#', '$', '%'])\n",
        "password = base + numbers + symbols\n",
        "while len(password) < 8:\n",
        "    password += random.choice('abcxyz123')\n",
        "print(\"your storng password: \", password)\n"
      ],
      "metadata": {
        "id": "RFDotCD7n8q4",
        "outputId": "7ec5d0df-2d7c-47c8-a64c-bd403ea48663",
        "colab": {
          "base_uri": "https://localhost:8080/"
        }
      },
      "execution_count": 2,
      "outputs": [
        {
          "output_type": "stream",
          "name": "stdout",
          "text": [
            "your password: yatu\n",
            "your storng password:  Yatu10#3\n"
          ]
        }
      ]
    },
    {
      "cell_type": "code",
      "source": [],
      "metadata": {
        "id": "NzyLrZNFqJUA"
      },
      "execution_count": null,
      "outputs": []
    }
  ]
}